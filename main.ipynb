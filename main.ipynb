{
 "cells": [
  {
   "cell_type": "code",
   "execution_count": 3,
   "metadata": {},
   "outputs": [
    {
     "name": "stdout",
     "output_type": "stream",
     "text": [
      "Epoch 1/10\n",
      "469/469 [==============================] - 1s 2ms/step - loss: 0.0213 - categorical_crossentropy: 0.4085\n",
      "Epoch 2/10\n",
      "469/469 [==============================] - 1s 2ms/step - loss: 0.0094 - categorical_crossentropy: 0.1826\n",
      "Epoch 3/10\n",
      "469/469 [==============================] - 1s 2ms/step - loss: 0.0067 - categorical_crossentropy: 0.1386\n",
      "Epoch 4/10\n",
      "469/469 [==============================] - 1s 2ms/step - loss: 0.0052 - categorical_crossentropy: 0.1115\n",
      "Epoch 5/10\n",
      "469/469 [==============================] - 1s 2ms/step - loss: 0.0043 - categorical_crossentropy: 0.0949\n",
      "Epoch 6/10\n",
      "469/469 [==============================] - 1s 2ms/step - loss: 0.0035 - categorical_crossentropy: 0.0800\n",
      "Epoch 7/10\n",
      "469/469 [==============================] - 1s 2ms/step - loss: 0.0030 - categorical_crossentropy: 0.0705\n",
      "Epoch 8/10\n",
      "469/469 [==============================] - 1s 2ms/step - loss: 0.0026 - categorical_crossentropy: 0.0604\n",
      "Epoch 9/10\n",
      "469/469 [==============================] - 1s 2ms/step - loss: 0.0022 - categorical_crossentropy: 0.0540\n",
      "Epoch 10/10\n",
      "469/469 [==============================] - 1s 2ms/step - loss: 0.0019 - categorical_crossentropy: 0.0479\n",
      "313/313 [==============================] - 0s 1ms/step - loss: 0.0039 - categorical_crossentropy: 0.0876\n",
      "Test loss: 0.003895487869158387\n"
     ]
    }
   ],
   "source": [
    "import numpy as np\n",
    "import tensorflow as tf\n",
    "from tensorflow.keras import layers, models\n",
    "from tensorflow.keras.datasets import mnist\n",
    "from tensorflow.keras.utils import to_categorical\n",
    "\n",
    "\n",
    "(xtrain, ytrain), (xtest, ytest) = mnist.load_data()\n",
    "xtrain = xtrain.reshape((60000, 28 * 28)).astype('float32') / 255\n",
    "xtest = xtest.reshape((10000, 28 * 28)).astype('float32') / 255\n",
    "ytrain = to_categorical(ytrain)\n",
    "ytest = to_categorical(ytest)\n",
    "\n",
    "\n",
    "\n",
    "def autoencoder():\n",
    "    model = models.Sequential()\n",
    "    model.add(layers.Dense(128, activation='relu', input_shape=(28 * 28,)))\n",
    "    model.add(layers.Dense(128, activation='relu'))\n",
    "    model.add(layers.Dense(7))\n",
    "    return model\n",
    "\n",
    "def classifier():\n",
    "    model = models.Sequential()\n",
    "    model.add(layers.Dense(128, activation='relu', input_shape=(28*28,)))\n",
    "    model.add(layers.Dense(128, activation='relu'))\n",
    "    model.add(layers.Dense(10))\n",
    "    return model\n",
    "\n",
    "\n",
    "def train(model,x,y):\n",
    "    model.fit(x, y, epochs=10, batch_size=128)  # Adjust epochs and batch_size\n",
    "\n",
    "\n",
    "def create_autoencoder():\n",
    "    autoencoder_model = autoencoder()\n",
    "    autoencoder_model.compile(optimizer='adam', loss='mse')  # Use appropriate loss function\n",
    "    return autoencoder_model\n",
    "\n",
    "def create_combined_model():\n",
    "    classifier_model = classifier()\n",
    "    classifier_model.compile(optimizer='adam', loss='mse')  \n",
    "    return classifier_model\n",
    "\n",
    "\n",
    "# autoencoder_model = create_autoencoder()\n",
    "# train(autoencoder_model, xtrain, convertToClock(ytrain))\n",
    "\n",
    "\n",
    "combined_model = create_combined_model()\n",
    "\n",
    "# autoencoder_model.layers[0].set_weights(combined_model.layers[0].get_weights())\n",
    "# autoencoder_model.layers[1].set_weights(combined_model.layers[1].get_weights())\n",
    "# autoencoder_model.layers[2].set_weights(combined_model.layers[2].get_weights())\n",
    "# autoencoder_model.layers[0].trainable = False;\n",
    "# autoencoder_model.layers[1].trainable = False;\n",
    "# autoencoder_model.layers[2].trainable = False;\n",
    "\n",
    "train(combined_model,xtrain,ytrain)\n",
    "\n",
    "\n",
    "\n",
    "\n",
    "\n",
    "\n",
    "# autoencoder_model.fit(xtrain, xtrain, epochs=10, batch_size=128)  # Adjust epochs and batch_size\n",
    "# train_combined_model(combined_model)\n",
    "\n",
    "\n",
    "\n",
    "test_loss = combined_model.evaluate(xtest, ytest)[0]\n",
    "print(f'Test loss: {test_loss}')"
   ]
  },
  {
   "cell_type": "code",
   "execution_count": 20,
   "metadata": {},
   "outputs": [
    {
     "name": "stdout",
     "output_type": "stream",
     "text": [
      "313/313 [==============================] - 0s 1ms/step\n",
      "0: -0.53%\n",
      "1: 2.03%\n",
      "2: -0.21%\n",
      "3: 0.68%\n",
      "4: 0.46%\n",
      "5: 2.76%\n",
      "6: -0.93%\n",
      "7: 96.78%\n",
      "8: -2.32%\n",
      "9: 1.16%\n",
      "313/313 [==============================] - 0s 646us/step\n"
     ]
    },
    {
     "ename": "ValueError",
     "evalue": "cannot reshape array of size 7 into shape (28,28)",
     "output_type": "error",
     "traceback": [
      "\u001b[1;31m---------------------------------------------------------------------------\u001b[0m",
      "\u001b[1;31mValueError\u001b[0m                                Traceback (most recent call last)",
      "Cell \u001b[1;32mIn[20], line 28\u001b[0m\n\u001b[0;32m     26\u001b[0m original_image \u001b[38;5;241m=\u001b[39m test_images[item]\n\u001b[0;32m     27\u001b[0m \u001b[38;5;66;03m# Reshape the image to 28x28\u001b[39;00m\n\u001b[1;32m---> 28\u001b[0m recovered_image \u001b[38;5;241m=\u001b[39m \u001b[43mrecovered_image\u001b[49m\u001b[38;5;241;43m.\u001b[39;49m\u001b[43mreshape\u001b[49m\u001b[43m(\u001b[49m\u001b[38;5;241;43m28\u001b[39;49m\u001b[43m,\u001b[49m\u001b[43m \u001b[49m\u001b[38;5;241;43m28\u001b[39;49m\u001b[43m)\u001b[49m\n\u001b[0;32m     29\u001b[0m original_image \u001b[38;5;241m=\u001b[39m original_image\u001b[38;5;241m.\u001b[39mreshape(\u001b[38;5;241m28\u001b[39m, \u001b[38;5;241m28\u001b[39m)\n\u001b[0;32m     30\u001b[0m \u001b[38;5;66;03m# Display the image using Matplotlib\u001b[39;00m\n\u001b[0;32m     31\u001b[0m \u001b[38;5;66;03m# Display the images side by side using Matplotlib\u001b[39;00m\n",
      "\u001b[1;31mValueError\u001b[0m: cannot reshape array of size 7 into shape (28,28)"
     ]
    }
   ],
   "source": [
    "import numpy as np\n",
    "import matplotlib.pyplot as plt\n",
    "\n",
    "def print_mnist_prediction_detailed(one_hot_prediction):\n",
    "    # Iterate over each digit and print its probability\n",
    "    for digit, probability in enumerate(one_hot_prediction):\n",
    "        print(f\"{digit}: {probability * 100:.2f}%\")\n",
    "\n",
    "def print_mnist_prediction(one_hot_prediction):\n",
    "    # Convert one-hot prediction to a single integer representing the predicted digit\n",
    "    predicted_digit = np.argmax(one_hot_prediction)\n",
    "    \n",
    "    # Extract the probability for the predicted digit\n",
    "    probability = one_hot_prediction[predicted_digit] * 100\n",
    "    \n",
    "    # Print the result\n",
    "    print(f\"Predicted Digit: {predicted_digit}\")\n",
    "    print(f\"Probability: {probability:.2f}%\")\n",
    "\n",
    "item = 0\n",
    "\n",
    "print_mnist_prediction_detailed(combined_model.predict(test_images)[item])\n",
    "\n",
    "# Assuming you have an MNIST image with shape (784,)\n",
    "recovered_image = autoencoder_model.predict(test_images)[item]\n",
    "original_image = test_images[item]\n",
    "# Reshape the image to 28x28\n",
    "recovered_image = recovered_image.reshape(28, 28)\n",
    "original_image = original_image.reshape(28, 28)\n",
    "# Display the image using Matplotlib\n",
    "# Display the images side by side using Matplotlib\n",
    "plt.subplot(1, 2, 1)\n",
    "plt.imshow(original_image, cmap='gray')\n",
    "plt.title('MNIST Image 1')\n",
    "\n",
    "plt.subplot(1, 2, 2)\n",
    "plt.imshow(recovered_image, cmap='gray')\n",
    "plt.title('MNIST Image 2')\n",
    "\n",
    "plt.show()"
   ]
  },
  {
   "cell_type": "code",
   "execution_count": 12,
   "metadata": {},
   "outputs": [
    {
     "data": {
      "text/plain": [
       "array([[0., 0., 0., ..., 0., 0., 0.],\n",
       "       [0., 0., 0., ..., 0., 0., 0.],\n",
       "       [0., 0., 0., ..., 0., 0., 0.],\n",
       "       ...,\n",
       "       [0., 0., 0., ..., 0., 0., 0.],\n",
       "       [0., 0., 0., ..., 0., 0., 0.],\n",
       "       [0., 0., 0., ..., 0., 0., 0.]], dtype=float32)"
      ]
     },
     "execution_count": 12,
     "metadata": {},
     "output_type": "execute_result"
    }
   ],
   "source": [
    "import numpy as np\n",
    "number_ones = train_images[np.where(train_labels[:, 1] == 1)[0]]\n",
    "\n",
    "number_ones"
   ]
  },
  {
   "cell_type": "code",
   "execution_count": 27,
   "metadata": {},
   "outputs": [
    {
     "data": {
      "text/plain": [
       "[PhysicalDevice(name='/physical_device:GPU:0', device_type='GPU')]"
      ]
     },
     "execution_count": 27,
     "metadata": {},
     "output_type": "execute_result"
    }
   ],
   "source": [
    "tf.config.list_physical_devices('GPU') "
   ]
  }
 ],
 "metadata": {
  "kernelspec": {
   "display_name": "Python 3",
   "language": "python",
   "name": "python3"
  },
  "language_info": {
   "codemirror_mode": {
    "name": "ipython",
    "version": 3
   },
   "file_extension": ".py",
   "mimetype": "text/x-python",
   "name": "python",
   "nbconvert_exporter": "python",
   "pygments_lexer": "ipython3",
   "version": "3.9.18"
  }
 },
 "nbformat": 4,
 "nbformat_minor": 2
}
