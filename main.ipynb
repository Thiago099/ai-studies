{
 "cells": [
  {
   "cell_type": "code",
   "execution_count": 27,
   "metadata": {},
   "outputs": [
    {
     "name": "stdout",
     "output_type": "stream",
     "text": [
      "Epoch 1/10\n",
      "469/469 [==============================] - 1s 1ms/step - loss: 0.0383\n",
      "Epoch 2/10\n",
      "469/469 [==============================] - 0s 1ms/step - loss: 0.0228\n",
      "Epoch 3/10\n",
      "469/469 [==============================] - 0s 987us/step - loss: 0.0216\n",
      "Epoch 4/10\n",
      "469/469 [==============================] - 0s 968us/step - loss: 0.0204\n",
      "Epoch 5/10\n",
      "469/469 [==============================] - 0s 1ms/step - loss: 0.0197\n",
      "Epoch 6/10\n",
      "469/469 [==============================] - 0s 997us/step - loss: 0.0190\n",
      "Epoch 7/10\n",
      "469/469 [==============================] - 0s 986us/step - loss: 0.0187\n",
      "Epoch 8/10\n",
      "469/469 [==============================] - 0s 972us/step - loss: 0.0184\n",
      "Epoch 9/10\n",
      "469/469 [==============================] - 0s 970us/step - loss: 0.0183\n",
      "Epoch 10/10\n",
      "469/469 [==============================] - 0s 966us/step - loss: 0.0183\n"
     ]
    },
    {
     "ename": "ValueError",
     "evalue": "Layer dense_21 weight shape (32, 32) is not compatible with provided weight shape (784, 32).",
     "output_type": "error",
     "traceback": [
      "\u001b[1;31m---------------------------------------------------------------------------\u001b[0m",
      "\u001b[1;31mValueError\u001b[0m                                Traceback (most recent call last)",
      "Cell \u001b[1;32mIn[27], line 58\u001b[0m\n\u001b[0;32m     54\u001b[0m     combined_model\u001b[38;5;241m.\u001b[39mfit(train_images, train_labels, epochs\u001b[38;5;241m=\u001b[39m\u001b[38;5;241m10\u001b[39m, batch_size\u001b[38;5;241m=\u001b[39m\u001b[38;5;241m128\u001b[39m)  \u001b[38;5;66;03m# Adjust epochs and batch_size\u001b[39;00m\n\u001b[0;32m     57\u001b[0m autoencoder_first_layer_weights \u001b[38;5;241m=\u001b[39m train_autoencoder()\n\u001b[1;32m---> 58\u001b[0m combined_model \u001b[38;5;241m=\u001b[39m \u001b[43mcreate_combined_model\u001b[49m\u001b[43m(\u001b[49m\u001b[43mautoencoder_first_layer_weights\u001b[49m\u001b[43m)\u001b[49m\n\u001b[0;32m     59\u001b[0m train_combined_model(combined_model)\n\u001b[0;32m     61\u001b[0m \u001b[38;5;66;03m# Compile the model\u001b[39;00m\n\u001b[0;32m     62\u001b[0m \u001b[38;5;66;03m# model.compile(optimizer='adam',\u001b[39;00m\n\u001b[0;32m     63\u001b[0m \u001b[38;5;66;03m#               loss='mse',\u001b[39;00m\n\u001b[1;32m   (...)\u001b[0m\n\u001b[0;32m     70\u001b[0m \u001b[38;5;66;03m# test_loss, test_acc = model.evaluate(test_images, test_images)\u001b[39;00m\n\u001b[0;32m     71\u001b[0m \u001b[38;5;66;03m# print(f'Test accuracy: {test_acc}')\u001b[39;00m\n",
      "Cell \u001b[1;32mIn[27], line 45\u001b[0m, in \u001b[0;36mcreate_combined_model\u001b[1;34m(autoencoder_first_layer_weights)\u001b[0m\n\u001b[0;32m     42\u001b[0m classifier_model\u001b[38;5;241m.\u001b[39mpop()  \u001b[38;5;66;03m# Remove the first layer\u001b[39;00m\n\u001b[0;32m     44\u001b[0m \u001b[38;5;66;03m# Load the weights of the first layer from the pre-trained autoencoder\u001b[39;00m\n\u001b[1;32m---> 45\u001b[0m \u001b[43mclassifier_model\u001b[49m\u001b[38;5;241;43m.\u001b[39;49m\u001b[43mlayers\u001b[49m\u001b[43m[\u001b[49m\u001b[38;5;241;43m0\u001b[39;49m\u001b[43m]\u001b[49m\u001b[38;5;241;43m.\u001b[39;49m\u001b[43mset_weights\u001b[49m\u001b[43m(\u001b[49m\u001b[43mautoencoder_first_layer_weights\u001b[49m\u001b[43m)\u001b[49m\n\u001b[0;32m     47\u001b[0m \u001b[38;5;28;01mreturn\u001b[39;00m classifier_model\n",
      "File \u001b[1;32mc:\\Users\\Thiago\\AppData\\Local\\Programs\\Python\\Python39\\lib\\site-packages\\keras\\src\\engine\\base_layer.py:1822\u001b[0m, in \u001b[0;36mLayer.set_weights\u001b[1;34m(self, weights)\u001b[0m\n\u001b[0;32m   1820\u001b[0m ref_shape \u001b[38;5;241m=\u001b[39m param\u001b[38;5;241m.\u001b[39mshape\n\u001b[0;32m   1821\u001b[0m \u001b[38;5;28;01mif\u001b[39;00m \u001b[38;5;129;01mnot\u001b[39;00m ref_shape\u001b[38;5;241m.\u001b[39mis_compatible_with(weight_shape):\n\u001b[1;32m-> 1822\u001b[0m     \u001b[38;5;28;01mraise\u001b[39;00m \u001b[38;5;167;01mValueError\u001b[39;00m(\n\u001b[0;32m   1823\u001b[0m         \u001b[38;5;124mf\u001b[39m\u001b[38;5;124m\"\u001b[39m\u001b[38;5;124mLayer \u001b[39m\u001b[38;5;132;01m{\u001b[39;00m\u001b[38;5;28mself\u001b[39m\u001b[38;5;241m.\u001b[39mname\u001b[38;5;132;01m}\u001b[39;00m\u001b[38;5;124m weight shape \u001b[39m\u001b[38;5;132;01m{\u001b[39;00mref_shape\u001b[38;5;132;01m}\u001b[39;00m\u001b[38;5;124m \u001b[39m\u001b[38;5;124m\"\u001b[39m\n\u001b[0;32m   1824\u001b[0m         \u001b[38;5;124m\"\u001b[39m\u001b[38;5;124mis not compatible with provided weight \u001b[39m\u001b[38;5;124m\"\u001b[39m\n\u001b[0;32m   1825\u001b[0m         \u001b[38;5;124mf\u001b[39m\u001b[38;5;124m\"\u001b[39m\u001b[38;5;124mshape \u001b[39m\u001b[38;5;132;01m{\u001b[39;00mweight_shape\u001b[38;5;132;01m}\u001b[39;00m\u001b[38;5;124m.\u001b[39m\u001b[38;5;124m\"\u001b[39m\n\u001b[0;32m   1826\u001b[0m     )\n\u001b[0;32m   1827\u001b[0m weight_value_tuples\u001b[38;5;241m.\u001b[39mappend((param, weight))\n\u001b[0;32m   1828\u001b[0m weight_index \u001b[38;5;241m+\u001b[39m\u001b[38;5;241m=\u001b[39m \u001b[38;5;241m1\u001b[39m\n",
      "\u001b[1;31mValueError\u001b[0m: Layer dense_21 weight shape (32, 32) is not compatible with provided weight shape (784, 32)."
     ]
    }
   ],
   "source": [
    "import tensorflow as tf\n",
    "from tensorflow.keras import layers, models\n",
    "from tensorflow.keras.datasets import mnist\n",
    "from tensorflow.keras.utils import to_categorical\n",
    "\n",
    "# Load and preprocess the MNIST dataset\n",
    "(train_images, train_labels), (test_images, test_labels) = mnist.load_data()\n",
    "train_images = train_images.reshape((60000, 28 * 28)).astype('float32') / 255\n",
    "test_images = test_images.reshape((10000, 28 * 28)).astype('float32') / 255\n",
    "train_labels = to_categorical(train_labels)\n",
    "test_labels = to_categorical(test_labels)\n",
    "\n",
    "# Create a simple fully connected neural network model\n",
    "def autoencoder():\n",
    "    model = models.Sequential()\n",
    "    model.add(layers.Dense(32, activation='relu', input_shape=(28 * 28,)))\n",
    "    model.add(layers.Dense(28*28))\n",
    "    return model\n",
    "\n",
    "def classifier():\n",
    "    model = models.Sequential()\n",
    "    model.add(layers.Dense(32, activation='relu', input_shape=(32,)))\n",
    "    model.add(layers.Dense(10))\n",
    "    return model\n",
    "\n",
    "\n",
    "def train_autoencoder():\n",
    "    autoencoder_model = autoencoder()\n",
    "    autoencoder_model.compile(optimizer='adam', loss='mse')  # Use appropriate loss function\n",
    "\n",
    "    # Load your training data (X_train) here\n",
    "    autoencoder_model.fit(train_images, train_images, epochs=10, batch_size=128)  # Adjust epochs and batch_size\n",
    "\n",
    "    # Save the weights of the first layer\n",
    "    autoencoder_first_layer_weights = autoencoder_model.layers[0].get_weights()\n",
    "\n",
    "    return autoencoder_first_layer_weights\n",
    "\n",
    "def create_combined_model(autoencoder_first_layer_weights):\n",
    "    # Define the classifier model without the first layer\n",
    "    classifier_model = classifier()\n",
    "    # classifier_model.pop()  # Remove the first layer\n",
    "\n",
    "    # Load the weights of the first layer from the pre-trained autoencoder\n",
    "    classifier_model.layers[0].set_weights(autoencoder_first_layer_weights)\n",
    "\n",
    "    return classifier_model\n",
    "\n",
    "def train_combined_model(combined_model):\n",
    "    # Compile the combined model with an appropriate optimizer and loss function\n",
    "    combined_model.compile(optimizer='adam', loss='categorical_crossentropy', metrics=['accuracy'])  \n",
    "\n",
    "    # Load your labeled data (X_train_labeled, y_train_labeled) here\n",
    "    combined_model.fit(train_images, train_labels, epochs=10, batch_size=128)  # Adjust epochs and batch_size\n",
    "\n",
    "\n",
    "autoencoder_first_layer_weights = train_autoencoder()\n",
    "combined_model = create_combined_model(autoencoder_first_layer_weights)\n",
    "train_combined_model(combined_model)\n",
    "\n",
    "# Compile the model\n",
    "# model.compile(optimizer='adam',\n",
    "#               loss='mse',\n",
    "#               metrics=['accuracy'])\n",
    "\n",
    "# # Train the model\n",
    "# model.fit(train_images, train_images, epochs=10, batch_size=64, validation_data=(test_images, test_images))\n",
    "\n",
    "# # Evaluate the model on the test set\n",
    "# test_loss, test_acc = model.evaluate(test_images, test_images)\n",
    "# print(f'Test accuracy: {test_acc}')"
   ]
  },
  {
   "cell_type": "code",
   "execution_count": 24,
   "metadata": {},
   "outputs": [
    {
     "name": "stdout",
     "output_type": "stream",
     "text": [
      "313/313 [==============================] - 0s 503us/step\n"
     ]
    },
    {
     "data": {
      "image/png": "[encoded data removed]",
      "text/plain": [
       "<Figure size 640x480 with 2 Axes>"
      ]
     },
     "metadata": {},
     "output_type": "display_data"
    }
   ],
   "source": [
    "import numpy as np\n",
    "import matplotlib.pyplot as plt\n",
    "\n",
    "# Assuming you have an MNIST image with shape (784,)\n",
    "recovered_image = model.predict(test_images)[1]\n",
    "original_image = test_images[1]\n",
    "# Reshape the image to 28x28\n",
    "recovered_image = recovered_image.reshape(28, 28)\n",
    "original_image = original_image.reshape(28, 28)\n",
    "# Display the image using Matplotlib\n",
    "# Display the images side by side using Matplotlib\n",
    "plt.subplot(1, 2, 1)\n",
    "plt.imshow(original_image, cmap='gray')\n",
    "plt.title('MNIST Image 1')\n",
    "\n",
    "plt.subplot(1, 2, 2)\n",
    "plt.imshow(recovered_image, cmap='gray')\n",
    "plt.title('MNIST Image 2')\n",
    "\n",
    "plt.show()"
   ]
  }
 ],
 "metadata": {
  "kernelspec": {
   "display_name": "Python 3",
   "language": "python",
   "name": "python3"
  },
  "language_info": {
   "codemirror_mode": {
    "name": "ipython",
    "version": 3
   },
   "file_extension": ".py",
   "mimetype": "text/x-python",
   "name": "python",
   "nbconvert_exporter": "python",
   "pygments_lexer": "ipython3",
   "version": "3.9.0"
  }
 },
 "nbformat": 4,
 "nbformat_minor": 2
}
