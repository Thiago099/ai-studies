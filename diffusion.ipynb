{
 "cells": [
  {
   "cell_type": "code",
   "execution_count": 401,
   "metadata": {},
   "outputs": [],
   "source": [
    "import numpy as np\n",
    "\n",
    "def generateData(noise_factor, data, labels):\n",
    "    current_noise = noise_factor\n",
    "\n",
    "    x = []\n",
    "    y = []\n",
    "    z = []\n",
    "\n",
    "    sampled_data = data.copy()\n",
    "    sampled_labels = labels.copy()\n",
    "\n",
    "\n",
    "    data = np.column_stack((sampled_data, sampled_labels))\n",
    "\n",
    "    class_grouped_data = [data[data[:, -1] == i] for i in range(10)]\n",
    "\n",
    "    class_grouped_data = np.concatenate([class_data[:int(len(class_data) * noise_factor), :] for class_data in class_grouped_data])\n",
    "\n",
    "    perm = np.random.permutation(len(class_grouped_data))\n",
    "    class_grouped_data = class_grouped_data[perm]\n",
    "\n",
    "    sampled_data = class_grouped_data[:, :-1].reshape(-1, 28, 28)\n",
    "    sampled_labels = class_grouped_data[:, -1]\n",
    "\n",
    "    last = sampled_data\n",
    "\n",
    "    while current_noise <= 1:\n",
    "\n",
    "        noised = sampled_data *(1-current_noise) + current_noise * np.random.normal(loc=0.0, scale=1.0, size=sampled_data.shape)\n",
    "        noised = np.clip(noised, 0., 1.)\n",
    "\n",
    "        x.append(noised)\n",
    "        y.append(last)\n",
    "        z.append(sampled_labels)\n",
    "\n",
    "        last = noised\n",
    "\n",
    "        current_noise += noise_factor\n",
    "    \n",
    "    x = np.array(x)\n",
    "    y = np.array(y)\n",
    "    z = np.array(z)\n",
    "\n",
    "    x = x.reshape(x.shape[0] * x.shape[1],-1)\n",
    "    y = y.reshape(y.shape[0] * y.shape[1],-1)\n",
    "    z = z.reshape(z.shape[0] * z.shape[1],-1)\n",
    "\n",
    "    perm = np.random.permutation(len(x))\n",
    "\n",
    "    x = x[perm]#[:len(data)*samples,:]\n",
    "    y = y[perm]#[:len(data)*samples,:]\n",
    "    z = z[perm]#[:len(data)*samples,:]\n",
    "\n",
    "    return (x, y, z)"
   ]
  },
  {
   "cell_type": "code",
   "execution_count": 415,
   "metadata": {},
   "outputs": [
    {
     "name": "stdout",
     "output_type": "stream",
     "text": [
      "x_train shape: (60000, 784)\n",
      "x_test shape: (10000, 784)\n",
      "y_train shape: (60000, 784)\n",
      "y_test shape: (10000, 784)\n",
      "l_train shape: (60000, 10)\n",
      "l_test shape: (10000, 10)\n"
     ]
    }
   ],
   "source": [
    "from tensorflow.keras.datasets import mnist\n",
    "from tensorflow.keras.utils import to_categorical\n",
    "\n",
    "from keras.utils import to_categorical\n",
    "# Load MNIST dataset\n",
    "(x_train, y_train), (x_test, y_test) = mnist.load_data()\n",
    "\n",
    "# Preprocess the data\n",
    "x_train = x_train.reshape((len(x_train), 28 * 28)).astype('float32') / 255\n",
    "x_test = x_test.reshape((len(x_test), 28 * 28)).astype('float32') / 255\n",
    "\n",
    "# Add noise to the images (optional, but useful for denoising autoencoder)\n",
    "noise_factor = 1\n",
    "\n",
    "\n",
    "\n",
    "x_train, y_train, l_train = generateData(noise_factor, x_train, y_train)\n",
    "x_test, y_test, l_test = generateData(noise_factor, x_test, y_test)\n",
    "\n",
    "\n",
    "# Use the same data for input and target (denoising autoencoder)\n",
    "l_train = to_categorical(l_train, num_classes=10)\n",
    "l_test = to_categorical(l_test, num_classes=10)\n",
    "\n",
    "# Print the shape of the data\n",
    "print(\"x_train shape:\", x_train.shape)\n",
    "print(\"x_test shape:\", x_test.shape)\n",
    "print(\"y_train shape:\", y_train.shape)\n",
    "print(\"y_test shape:\", y_test.shape)\n",
    "print(\"l_train shape:\", l_train.shape)\n",
    "print(\"l_test shape:\", l_test.shape)"
   ]
  },
  {
   "cell_type": "code",
   "execution_count": 416,
   "metadata": {},
   "outputs": [
    {
     "data": {
      "image/png": "[encoded data removed]",
      "text/plain": [
       "<Figure size 640x480 with 2 Axes>"
      ]
     },
     "metadata": {},
     "output_type": "display_data"
    },
    {
     "name": "stdout",
     "output_type": "stream",
     "text": [
      "[0. 0. 0. 1. 0. 0. 0. 0. 0. 0.]\n"
     ]
    }
   ],
   "source": [
    "import numpy as np\n",
    "import matplotlib.pyplot as plt\n",
    "\n",
    "plt.subplot(1, 2, 1)\n",
    "plt.imshow(x_test[3].reshape(28, 28), cmap='gray')\n",
    "plt.title('MNIST Image 1')\n",
    "\n",
    "plt.subplot(1, 2, 2)\n",
    "plt.imshow(y_test[3].reshape(28, 28), cmap='gray')\n",
    "plt.title('MNIST Image 2')\n",
    "\n",
    "plt.show()\n",
    "\n",
    "\n",
    "print(l_test[2])\n"
   ]
  },
  {
   "cell_type": "code",
   "execution_count": 417,
   "metadata": {},
   "outputs": [
    {
     "name": "stdout",
     "output_type": "stream",
     "text": [
      "Epoch 1/10\n",
      "469/469 [==============================] - 1s 2ms/step - loss: 0.0615\n",
      "Epoch 2/10\n",
      "469/469 [==============================] - 1s 2ms/step - loss: 0.0539\n",
      "Epoch 3/10\n",
      "469/469 [==============================] - 1s 2ms/step - loss: 0.0534\n",
      "Epoch 4/10\n",
      "469/469 [==============================] - 1s 2ms/step - loss: 0.0531\n",
      "Epoch 5/10\n",
      "469/469 [==============================] - 1s 2ms/step - loss: 0.0525\n",
      "Epoch 6/10\n",
      "469/469 [==============================] - 1s 2ms/step - loss: 0.0517\n",
      "Epoch 7/10\n",
      "469/469 [==============================] - 1s 2ms/step - loss: 0.0504\n",
      "Epoch 8/10\n",
      "469/469 [==============================] - 1s 2ms/step - loss: 0.0486\n",
      "Epoch 9/10\n",
      "469/469 [==============================] - 1s 2ms/step - loss: 0.0465\n",
      "Epoch 10/10\n",
      "469/469 [==============================] - 1s 2ms/step - loss: 0.0444\n"
     ]
    },
    {
     "data": {
      "text/plain": [
       "<keras.callbacks.History at 0x264b9c296d0>"
      ]
     },
     "execution_count": 417,
     "metadata": {},
     "output_type": "execute_result"
    }
   ],
   "source": [
    "import numpy as np\n",
    "import tensorflow as tf\n",
    "from tensorflow.keras import layers, models\n",
    "from tensorflow.keras.datasets import mnist\n",
    "from tensorflow.keras.utils import to_categorical\n",
    "\n",
    "from keras import layers, models\n",
    "\n",
    "def diffusion_with_conditioning():\n",
    "    noise_input = layers.Input(shape=(28 * 28,))\n",
    "    label_input = layers.Input(shape=(10,))  # Assuming 10 classes for digits 0-9\n",
    "\n",
    "    # Concatenate noise input with label\n",
    "    concatenated_input = layers.concatenate([noise_input, label_input])\n",
    "\n",
    "    x = layers.Dense(28*28, activation='relu')(concatenated_input)\n",
    "    x = layers.Dense(28*28, activation='relu')(x)\n",
    "    generated_image = layers.Dense(28*28, activation='sigmoid')(x)\n",
    "\n",
    "    model = models.Model(inputs=[noise_input, label_input], outputs=generated_image)\n",
    "\n",
    "    return model\n",
    "\n",
    "\n",
    "def create_autoencoder():\n",
    "    autoencoder_model = diffusion_with_conditioning()\n",
    "    autoencoder_model.compile(optimizer='adam', loss='mse')  # Use appropriate loss function\n",
    "    return autoencoder_model\n",
    "\n",
    "\n",
    "\n",
    "autoencoder_model = create_autoencoder()\n",
    "autoencoder_model.fit([x_train,l_train], y_train, epochs=10, batch_size=128)  # Adjust epochs and batch_size\n"
   ]
  },
  {
   "cell_type": "code",
   "execution_count": 418,
   "metadata": {},
   "outputs": [
    {
     "name": "stdout",
     "output_type": "stream",
     "text": [
      "313/313 [==============================] - 0s 827us/step\n"
     ]
    },
    {
     "data": {
      "image/png": "[encoded data removed]",
      "text/plain": [
       "<Figure size 1200x400 with 3 Axes>"
      ]
     },
     "metadata": {},
     "output_type": "display_data"
    }
   ],
   "source": [
    "import matplotlib.pyplot as plt\n",
    "\n",
    "\n",
    "\n",
    "noisy_image = x_test[0].reshape(28, 28)\n",
    "original_image = y_test[0].reshape(28, 28)\n",
    "recovered_image = autoencoder_model.predict([x_test,l_test])[0].reshape(28, 28)\n",
    "\n",
    "\n",
    "\n",
    "fig, axs = plt.subplots(1, 3, figsize=(12, 4), squeeze=False)\n",
    "\n",
    "# Plot the noisy image on the first subplot\n",
    "axs[0, 0].imshow(noisy_image.astype('float'), cmap='gray')\n",
    "# axs[0, 0].set_title('MNIST Image 1')\n",
    "\n",
    "# Plot the original image on the second subplot\n",
    "axs[0, 1].imshow(original_image.astype('float'), cmap='gray')\n",
    "# axs[0, 1].set_title('MNIST Image 2')\n",
    "\n",
    "# Plot the recovered image on the third subplot\n",
    "axs[0, 2].imshow(recovered_image.astype('float'), cmap='gray')\n",
    "# axs[0, 2].set_title('MNIST Image 3')\n",
    "\n",
    "# Hide axes and tick labels for all subplots\n",
    "for ax in axs[0]:\n",
    "    ax.axis('off')\n",
    "\n",
    "plt.show()"
   ]
  },
  {
   "cell_type": "code",
   "execution_count": 420,
   "metadata": {},
   "outputs": [
    {
     "data": {
      "image/png": "[encoded data removed]",
      "text/plain": [
       "<Figure size 1200x400 with 2 Axes>"
      ]
     },
     "metadata": {},
     "output_type": "display_data"
    }
   ],
   "source": [
    "import matplotlib.pyplot as plt\n",
    "\n",
    "\n",
    "\n",
    "image = np.array([np.random.normal(loc=0.0, scale=1.0, size=784)])\n",
    "label = np.array([[0,1,0,0,0,0,0,0,0,0]])\n",
    "\n",
    "recovered_image = image\n",
    "for i in range(10):\n",
    "    recovered_image = autoencoder_model.predict([recovered_image,label],verbose=False)\n",
    "\n",
    "recovered_image = recovered_image.reshape(28, 28)\n",
    "\n",
    "fig, axs = plt.subplots(1, 2, figsize=(12, 4), squeeze=False)\n",
    "axs[0, 0].imshow(image.reshape(28,28).astype('float'), cmap='gray')\n",
    "axs[0, 1].imshow(recovered_image.astype('float'), cmap='gray')\n",
    "for ax in axs[0]:\n",
    "    ax.axis('off')\n",
    "\n",
    "plt.show()"
   ]
  }
 ],
 "metadata": {
  "kernelspec": {
   "display_name": "tf",
   "language": "python",
   "name": "python3"
  },
  "language_info": {
   "codemirror_mode": {
    "name": "ipython",
    "version": 3
   },
   "file_extension": ".py",
   "mimetype": "text/x-python",
   "name": "python",
   "nbconvert_exporter": "python",
   "pygments_lexer": "ipython3",
   "version": "3.9.18"
  }
 },
 "nbformat": 4,
 "nbformat_minor": 2
}
