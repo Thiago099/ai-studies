{
 "cells": [
  {
   "cell_type": "code",
   "execution_count": 2,
   "metadata": {},
   "outputs": [
    {
     "name": "stdout",
     "output_type": "stream",
     "text": [
      "x_train shape: (60000, 784)\n",
      "x_test shape: (10000, 784)\n",
      "y_train shape: (60000, 784)\n",
      "y_test shape: (10000, 784)\n",
      "train_labels shape: (60000, 10)\n",
      "test_labels shape: (10000, 10)\n"
     ]
    }
   ],
   "source": [
    "from tensorflow.keras.datasets import mnist\n",
    "from tensorflow.keras.utils import to_categorical\n",
    "import numpy as np\n",
    "from keras.utils import to_categorical\n",
    "# Load MNIST dataset\n",
    "(x_train, y_train), (x_test, y_test) = mnist.load_data()\n",
    "\n",
    "# Preprocess the data\n",
    "x_train = x_train.reshape((len(x_train), 28 * 28)).astype('float32') / 255\n",
    "x_test = x_test.reshape((len(x_test), 28 * 28)).astype('float32') / 255\n",
    "\n",
    "# Add noise to the images (optional, but useful for denoising autoencoder)\n",
    "noise_factor = 0.5\n",
    "x_train_noisy = x_train + noise_factor * np.random.normal(loc=0.0, scale=1.0, size=x_train.shape)\n",
    "x_test_noisy = x_test + noise_factor * np.random.normal(loc=0.0, scale=1.0, size=x_test.shape)\n",
    "\n",
    "# Clip the pixel values to be in the range [0, 1]\n",
    "x_train_noisy = np.clip(x_train_noisy, 0., 1.)\n",
    "x_test_noisy = np.clip(x_test_noisy, 0., 1.)\n",
    "\n",
    "# Use the same data for input and target (denoising autoencoder)\n",
    "train_labels = to_categorical(y_train, num_classes=10)\n",
    "test_labels = to_categorical(y_test, num_classes=10)\n",
    "\n",
    "y_train = x_train\n",
    "y_test = x_test\n",
    "\n",
    "x_train = x_train_noisy\n",
    "x_test = x_test_noisy\n",
    "\n",
    "# Print the shape of the data\n",
    "print(\"x_train shape:\", x_train.shape)\n",
    "print(\"x_test shape:\", x_test.shape)\n",
    "print(\"y_train shape:\", y_train.shape)\n",
    "print(\"y_test shape:\", y_test.shape)\n",
    "print(\"train_labels shape:\", train_labels.shape)\n",
    "print(\"test_labels shape:\", test_labels.shape)"
   ]
  },
  {
   "cell_type": "code",
   "execution_count": 65,
   "metadata": {},
   "outputs": [
    {
     "data": {
      "image/png": "[encoded data removed]",
      "text/plain": [
       "<Figure size 640x480 with 2 Axes>"
      ]
     },
     "metadata": {},
     "output_type": "display_data"
    },
    {
     "data": {
      "text/plain": [
       "7"
      ]
     },
     "execution_count": 65,
     "metadata": {},
     "output_type": "execute_result"
    }
   ],
   "source": [
    "import numpy as np\n",
    "import matplotlib.pyplot as plt\n",
    "\n",
    "plt.subplot(1, 2, 1)\n",
    "plt.imshow(x_test[0].reshape(28, 28), cmap='gray')\n",
    "plt.title('MNIST Image 1')\n",
    "\n",
    "plt.subplot(1, 2, 2)\n",
    "plt.imshow(y_test[0].reshape(28, 28), cmap='gray')\n",
    "plt.title('MNIST Image 2')\n",
    "\n",
    "plt.show()\n",
    "\n"
   ]
  },
  {
   "cell_type": "code",
   "execution_count": 3,
   "metadata": {},
   "outputs": [
    {
     "name": "stdout",
     "output_type": "stream",
     "text": [
      "Epoch 1/10\n",
      "469/469 [==============================] - 2s 2ms/step - loss: 0.0350\n",
      "Epoch 2/10\n",
      "469/469 [==============================] - 1s 2ms/step - loss: 0.0177\n",
      "Epoch 3/10\n",
      "469/469 [==============================] - 1s 2ms/step - loss: 0.0150\n",
      "Epoch 4/10\n",
      "469/469 [==============================] - 1s 2ms/step - loss: 0.0136\n",
      "Epoch 5/10\n",
      "469/469 [==============================] - 1s 2ms/step - loss: 0.0127\n",
      "Epoch 6/10\n",
      "469/469 [==============================] - 1s 2ms/step - loss: 0.0121\n",
      "Epoch 7/10\n",
      "469/469 [==============================] - 1s 2ms/step - loss: 0.0115\n",
      "Epoch 8/10\n",
      "469/469 [==============================] - 1s 2ms/step - loss: 0.0110\n",
      "Epoch 9/10\n",
      "469/469 [==============================] - 1s 2ms/step - loss: 0.0107\n",
      "Epoch 10/10\n",
      "469/469 [==============================] - 1s 2ms/step - loss: 0.0103\n"
     ]
    }
   ],
   "source": [
    "import numpy as np\n",
    "import tensorflow as tf\n",
    "from tensorflow.keras import layers, models\n",
    "from tensorflow.keras.datasets import mnist\n",
    "from tensorflow.keras.utils import to_categorical\n",
    "\n",
    "from keras import layers, models\n",
    "\n",
    "def diffusion_with_conditioning():\n",
    "    noise_input = layers.Input(shape=(28 * 28,))\n",
    "    label_input = layers.Input(shape=(10,))  # Assuming 10 classes for digits 0-9\n",
    "\n",
    "    # Concatenate noise input with label\n",
    "    concatenated_input = layers.concatenate([noise_input, label_input])\n",
    "\n",
    "    x = layers.Dense(28*28, activation='relu')(concatenated_input)\n",
    "    x = layers.Dense(28*28, activation='relu')(x)\n",
    "    generated_image = layers.Dense(28*28, activation='sigmoid')(x)\n",
    "\n",
    "    model = models.Model(inputs=[noise_input, label_input], outputs=generated_image)\n",
    "\n",
    "    return model\n",
    "\n",
    "\n",
    "def create_autoencoder():\n",
    "    autoencoder_model = diffusion_with_conditioning()\n",
    "    autoencoder_model.compile(optimizer='adam', loss='mse')  # Use appropriate loss function\n",
    "    return autoencoder_model\n",
    "\n",
    "def train(model,x,y):\n",
    "    model.fit(x, y, epochs=10, batch_size=128)  # Adjust epochs and batch_size\n",
    "\n",
    "autoencoder_model = create_autoencoder()\n",
    "train(autoencoder_model, [x_train, train_labels], y_train)\n"
   ]
  },
  {
   "cell_type": "code",
   "execution_count": 5,
   "metadata": {},
   "outputs": [
    {
     "name": "stdout",
     "output_type": "stream",
     "text": [
      "313/313 [==============================] - 0s 1ms/step\n"
     ]
    },
    {
     "data": {
      "image/png": "[encoded data removed]",
      "text/plain": [
       "<Figure size 1200x400 with 3 Axes>"
      ]
     },
     "metadata": {},
     "output_type": "display_data"
    }
   ],
   "source": [
    "import IPython.display as ipd\n",
    "import numpy as np\n",
    "import matplotlib.pyplot as plt\n",
    "\n",
    "\n",
    "\n",
    "noisy_image = x_test[0].reshape(28, 28)\n",
    "original_image = y_test[0].reshape(28, 28)\n",
    "recovered_image = autoencoder_model.predict([x_test,test_labels])[0].reshape(28, 28)\n",
    "\n",
    "\n",
    "\n",
    "fig, axs = plt.subplots(1, 3, figsize=(12, 4), squeeze=False)\n",
    "\n",
    "# Plot the noisy image on the first subplot\n",
    "axs[0, 0].imshow(noisy_image.astype('float'), cmap='gray')\n",
    "# axs[0, 0].set_title('MNIST Image 1')\n",
    "\n",
    "# Plot the original image on the second subplot\n",
    "axs[0, 1].imshow(original_image.astype('float'), cmap='gray')\n",
    "# axs[0, 1].set_title('MNIST Image 2')\n",
    "\n",
    "# Plot the recovered image on the third subplot\n",
    "axs[0, 2].imshow(recovered_image.astype('float'), cmap='gray')\n",
    "# axs[0, 2].set_title('MNIST Image 3')\n",
    "\n",
    "# Hide axes and tick labels for all subplots\n",
    "for ax in axs[0]:\n",
    "    ax.axis('off')\n",
    "\n",
    "plt.show()"
   ]
  }
 ],
 "metadata": {
  "kernelspec": {
   "display_name": "tf",
   "language": "python",
   "name": "python3"
  },
  "language_info": {
   "codemirror_mode": {
    "name": "ipython",
    "version": 3
   },
   "file_extension": ".py",
   "mimetype": "text/x-python",
   "name": "python",
   "nbconvert_exporter": "python",
   "pygments_lexer": "ipython3",
   "version": "3.9.18"
  }
 },
 "nbformat": 4,
 "nbformat_minor": 2
}
